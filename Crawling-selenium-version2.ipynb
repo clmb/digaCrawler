{
 "cells": [
  {
   "cell_type": "code",
   "execution_count": null,
   "id": "e08a14b3",
   "metadata": {},
   "outputs": [
    {
     "name": "stdout",
     "output_type": "stream",
     "text": [
      "Requirement already satisfied: selenium in c:\\users\\georg\\anaconda3\\lib\\site-packages (4.10.0)\n",
      "Requirement already satisfied: certifi>=2021.10.8 in c:\\users\\georg\\anaconda3\\lib\\site-packages (from selenium) (2022.9.14)\n",
      "Requirement already satisfied: trio-websocket~=0.9 in c:\\users\\georg\\anaconda3\\lib\\site-packages (from selenium) (0.10.3)\n",
      "Requirement already satisfied: trio~=0.17 in c:\\users\\georg\\anaconda3\\lib\\site-packages (from selenium) (0.22.0)\n",
      "Requirement already satisfied: urllib3[socks]<3,>=1.26 in c:\\users\\georg\\anaconda3\\lib\\site-packages (from selenium) (1.26.11)\n",
      "Requirement already satisfied: async-generator>=1.9 in c:\\users\\georg\\anaconda3\\lib\\site-packages (from trio~=0.17->selenium) (1.10)\n",
      "Requirement already satisfied: idna in c:\\users\\georg\\anaconda3\\lib\\site-packages (from trio~=0.17->selenium) (3.3)\n",
      "Requirement already satisfied: sniffio in c:\\users\\georg\\anaconda3\\lib\\site-packages (from trio~=0.17->selenium) (1.2.0)\n",
      "Requirement already satisfied: sortedcontainers in c:\\users\\georg\\anaconda3\\lib\\site-packages (from trio~=0.17->selenium) (2.4.0)\n",
      "Requirement already satisfied: cffi>=1.14 in c:\\users\\georg\\anaconda3\\lib\\site-packages (from trio~=0.17->selenium) (1.15.1)\n",
      "Requirement already satisfied: outcome in c:\\users\\georg\\anaconda3\\lib\\site-packages (from trio~=0.17->selenium) (1.2.0)\n",
      "Requirement already satisfied: exceptiongroup>=1.0.0rc9 in c:\\users\\georg\\anaconda3\\lib\\site-packages (from trio~=0.17->selenium) (1.1.1)\n",
      "Requirement already satisfied: attrs>=19.2.0 in c:\\users\\georg\\anaconda3\\lib\\site-packages (from trio~=0.17->selenium) (21.4.0)\n",
      "Requirement already satisfied: wsproto>=0.14 in c:\\users\\georg\\anaconda3\\lib\\site-packages (from trio-websocket~=0.9->selenium) (1.2.0)\n",
      "Requirement already satisfied: PySocks!=1.5.7,<2.0,>=1.5.6 in c:\\users\\georg\\anaconda3\\lib\\site-packages (from urllib3[socks]<3,>=1.26->selenium) (1.7.1)\n",
      "Requirement already satisfied: pycparser in c:\\users\\georg\\anaconda3\\lib\\site-packages (from cffi>=1.14->trio~=0.17->selenium) (2.21)\n",
      "Requirement already satisfied: h11<1,>=0.9.0 in c:\\users\\georg\\anaconda3\\lib\\site-packages (from wsproto>=0.14->trio-websocket~=0.9->selenium) (0.14.0)\n",
      "Note: you may need to restart the kernel to use updated packages.\n"
     ]
    }
   ],
   "source": [
    "pip install selenium\n"
   ]
  },
  {
   "cell_type": "code",
   "execution_count": null,
   "id": "bf6c68ad",
   "metadata": {},
   "outputs": [
    {
     "name": "stdout",
     "output_type": "stream",
     "text": [
      "Requirement already satisfied: webdriver_manager in c:\\users\\georg\\anaconda3\\lib\\site-packages (3.8.6)\n",
      "Requirement already satisfied: requests in c:\\users\\georg\\anaconda3\\lib\\site-packages (from webdriver_manager) (2.28.1)\n",
      "Requirement already satisfied: tqdm in c:\\users\\georg\\anaconda3\\lib\\site-packages (from webdriver_manager) (4.64.1)\n",
      "Requirement already satisfied: python-dotenv in c:\\users\\georg\\anaconda3\\lib\\site-packages (from webdriver_manager) (1.0.0)\n",
      "Requirement already satisfied: packaging in c:\\users\\georg\\anaconda3\\lib\\site-packages (from webdriver_manager) (21.3)\n",
      "Requirement already satisfied: pyparsing!=3.0.5,>=2.0.2 in c:\\users\\georg\\anaconda3\\lib\\site-packages (from packaging->webdriver_manager) (3.0.9)\n",
      "Requirement already satisfied: certifi>=2017.4.17 in c:\\users\\georg\\anaconda3\\lib\\site-packages (from requests->webdriver_manager) (2022.9.14)\n",
      "Requirement already satisfied: idna<4,>=2.5 in c:\\users\\georg\\anaconda3\\lib\\site-packages (from requests->webdriver_manager) (3.3)\n",
      "Requirement already satisfied: urllib3<1.27,>=1.21.1 in c:\\users\\georg\\anaconda3\\lib\\site-packages (from requests->webdriver_manager) (1.26.11)\n",
      "Requirement already satisfied: charset-normalizer<3,>=2 in c:\\users\\georg\\anaconda3\\lib\\site-packages (from requests->webdriver_manager) (2.0.4)\n",
      "Requirement already satisfied: colorama in c:\\users\\georg\\anaconda3\\lib\\site-packages (from tqdm->webdriver_manager) (0.4.5)\n",
      "Note: you may need to restart the kernel to use updated packages.\n"
     ]
    }
   ],
   "source": [
    "pip install webdriver_manager"
   ]
  },
  {
   "cell_type": "code",
   "execution_count": 1,
   "id": "cf897784",
   "metadata": {},
   "outputs": [],
   "source": [
    "import time\n",
    "import random\n",
    "from selenium import webdriver\n",
    "from selenium.webdriver.chrome.service import Service as ChromeService\n",
    "from selenium.common.exceptions import StaleElementReferenceException\n",
    "from selenium.webdriver.chrome.options import Options\n",
    "from webdriver_manager.chrome import ChromeDriverManager\n",
    "from selenium.webdriver.support.ui import WebDriverWait\n",
    "from selenium.webdriver.support import expected_conditions as EC\n",
    "from selenium.webdriver.common.by import By\n",
    "from selenium.common.exceptions import NoSuchElementException\n",
    "\n",
    "import pandas as pd"
   ]
  },
  {
   "cell_type": "code",
   "execution_count": 16,
   "id": "f36fcd20",
   "metadata": {},
   "outputs": [],
   "source": [
    "# Set a user agent string to mimic a non-bot user\n",
    "user_agent = (\n",
    "    \"Mozilla/5.0 (Windows NT 10.0; Win64; x64) AppleWebKit/537.36 (KHTML, like Gecko) Chrome/94.0.4606.81 Safari/537.36\"\n",
    ")\n",
    "\n",
    "# Configure Chrome options with the user agent\n",
    "options = webdriver.ChromeOptions()\n",
    "options.add_argument(f\"user-agent={user_agent}\")"
   ]
  },
  {
   "cell_type": "code",
   "execution_count": null,
   "id": "3c7e6fe7",
   "metadata": {},
   "outputs": [],
   "source": [
    "# Initialize the Chrome WebDriver with the configured options\n",
    "options = Options()\n",
    "# options.add_argument(\"--no-sandbox\")\n",
    "# options.add_argument('--headless=new')\n",
    "# options.add_argument(\"--disable-gpu\")\n",
    "\n",
    "driver = webdriver.Chrome(service=ChromeService(ChromeDriverManager(\n",
    "            latest_release_url='https://googlechromelabs.github.io/chrome-for-testing/last-known-good-versions-with-downloads.json',\n",
    "            driver_version='116.0.5845.96').install()), options=options)"
   ]
  },
  {
   "cell_type": "code",
   "execution_count": 17,
   "id": "35c8b100",
   "metadata": {},
   "outputs": [],
   "source": [
    "\n",
    "url = 'https://diga.bfarm.de/de/verzeichnis'\n",
    "driver.get(url)"
   ]
  },
  {
   "cell_type": "code",
   "execution_count": 18,
   "id": "773e6a2a",
   "metadata": {},
   "outputs": [],
   "source": [
    "# Scroll through the page to load all elements\n",
    "driver.execute_script(\"window.scrollTo(0, document.body.scrollHeight);\")\n",
    "time.sleep(random.uniform(2, 4)) "
   ]
  },
  {
   "cell_type": "code",
   "execution_count": 19,
   "id": "d0853de4",
   "metadata": {},
   "outputs": [],
   "source": [
    "# Find all the elements on the page\n",
    "elements = driver.find_elements(\"css selector\", \".entity-app\")\n",
    "\n",
    "# Initialize an empty list to store the extracted data\n",
    "data = []\n",
    "\n",
    "batch_size = 10\n",
    "\n",
    "# Set a counter to track the number of extracted records\n",
    "counter = 0"
   ]
  },
  {
   "cell_type": "code",
   "execution_count": null,
   "id": "fc9d102d",
   "metadata": {},
   "outputs": [],
   "source": [
    "elements = driver.find_elements(\"css selector\", \".entity-app\")\n",
    "elements_count = len(elements)\n",
    "\n",
    "for i in range(elements_count):\n",
    "    print(f\"Processing element {counter + 1}\")\n",
    "    info = {}\n",
    "    \n",
    "    # Fetch the elements again in case of stale reference\n",
    "    elements = driver.find_elements(\"css selector\", \".entity-app\")\n",
    "    element = elements[i]\n",
    "    \n",
    "    # Click on the button to go to the detailed page\n",
    "    button = element.find_element(\"css selector\", \".entity-app__button\")\n",
    "    driver.execute_script(\"arguments[0].click();\", button)\n",
    "    \n",
    "    WebDriverWait(driver, 5).until(EC.visibility_of_element_located((By.CSS_SELECTOR, \".entity-app__app-type\")))\n",
    "\n",
    "    # Re-fetch the elements on the home page\n",
    "    elements = driver.find_elements(\"css selector\", \".entity-app\")\n",
    "\n",
    "    # Wait for the detailed page to load\n",
    "    info[\"app_name\"]= driver.find_element(\"css selector\", \".entity-app__header__name\").get_attribute(\"innerText\")\n",
    "    info[\"app_owner\"]= driver.find_element(\"css selector\", \".entity-app__subheader\").get_attribute(\"innerText\")\n",
    "    info[\"app_type\"]= driver.find_element(\"css selector\", \".entity-app__app-type\").get_attribute(\"innerText\")\n",
    "    \n",
    "    # Extract information from the detailed page\n",
    "    # Extract information from the detailed page\n",
    "    # After extracting the main information from the detailed page, click the \"Learn More\" button to open the popup\n",
    "    answers = {}\n",
    "    button_elements = driver.find_elements(\"css selector\", \".entity-app__info__more > button\")\n",
    "    for button_element in button_elements:\n",
    "        driver.execute_script(\"arguments[0].click();\", button_element)\n",
    "        time.sleep(random.uniform(2, 4))  # Random delay to mimic human-like behavior\n",
    "\n",
    "        # Wait for the popup to load\n",
    "        # Initialize a dictionary to store the answers\n",
    "\n",
    "        # Find all question and answer elements\n",
    "        qa_elements = driver.find_elements(\"css selector\",\".entity-app-answers__questions__question, .entity-app-answers__questions__answer\")\n",
    "\n",
    "        # Loop through the question and answer elements\n",
    "        for i in range(0, len(qa_elements), 2):\n",
    "            question = qa_elements[i].text\n",
    "            answer_element = qa_elements[i + 1]\n",
    "\n",
    "            # Get the answer text from the answer element\n",
    "            answer = answer_element.text\n",
    "            print(answer, question)\n",
    "\n",
    "            # Store the answer in the appropriate field in the answers dictionary based on the question\n",
    "            if \"Anwendungs-URL im Apple App Store\" in question:\n",
    "                answers[\"apple_app_url\"] = answer\n",
    "            elif \"Versionsnummer iOS-App\" in question:\n",
    "                print('entered')\n",
    "                answers[\"ios_version\"] = answer\n",
    "            elif \"Hardwarekompatibilität iOS-App\" in question:\n",
    "                answers[\"ios_hardware_compatibility\"] = answer\n",
    "            elif \"Softwarekompatibilität iOS-App\" in question:\n",
    "                answers[\"ios_software_compatibility\"] = answer\n",
    "            elif \"Anwendungs-URL im Google Play Store\" in question:\n",
    "                answers[\"google_play_url\"] = answer\n",
    "            elif \"Versionsnummer Android-App\" in question:\n",
    "                answers[\"android_version\"] = answer\n",
    "            elif \"Hardwarekompatibilität Android-App\" in question:\n",
    "                answers[\"android_hardware_compatibility\"] = answer\n",
    "            elif \"Softwarekompatibilität Android-App\" in question:\n",
    "                answers[\"android_software_compatibility\"] = answer\n",
    "            elif \"Patientengruppe\" in question:\n",
    "                answers[\"patientengruppe\"] = answer\n",
    "            elif \"Geeignete Altersgruppen\" in question:\n",
    "                answers[\"geeignete_altersgruppen\"] = answer\n",
    "            elif \"Geeignete Geschlechter\" in question:\n",
    "                answers[\"geeignete_geschlechter\"] = answer\n",
    "            elif \"Die DiGA ist nicht anzuwenden bei folgenden Diagnosen\" in question:\n",
    "                answers[\"diga_kontraindikationen\"] = answer\n",
    "            elif \"Weitere nicht durch Kontraindikationen abgedeckte Ausschlusskriterien\" in question:\n",
    "                answers[\"weitere_ausschlusskriterien\"] = answer\n",
    "            elif \"Herstellerpreis (Brutto)\" in question:\n",
    "                answers[\"herstellerpreis_brutto\"] = answer\n",
    "            elif \"Vergütungs- / Höchstbetrag (Brutto)\" in question:\n",
    "                answers[\"verguetungs_hoechstbetrag_brutto\"] = answer\n",
    "            elif \"Mehrkosten durch den Nutzenden der DiGA\" in question:\n",
    "                answers[\"mehrkosten_nutzenden\"] = answer\n",
    "            elif \"Erläuterung Mehrkosten\" in question:\n",
    "                answers[\"erlaeuterung_mehrkosten\"] = answer\n",
    "            elif \"Zusatzgeräte\" in question:\n",
    "                answers[\"zusatzgeraete\"] = answer\n",
    "            elif \"Erläuterung der Zusatzgeräte\" in question:\n",
    "                answers[\"erlaeuterung_zusatzgeraete\"] = answer\n",
    "            elif \"Kombinationsmöglichkeiten in Bezug auf Geräte\" in question:\n",
    "                answers[\"kombinationsmoeglichkeiten_geraete\"] = answer\n",
    "            elif \"Diese DiGA ist verfügbar in den folgenden Sprachen\" in question:\n",
    "                answers[\"verfuegbar_sprachen\"] = answer\n",
    "\n",
    "\n",
    "\n",
    "        # Close the popup\n",
    "        close_button = driver.find_element(\"css selector\", \".modal-information__close\")\n",
    "        driver.execute_script(\"arguments[0].click();\", close_button)\n",
    "\n",
    "    # Switch back to the home page\n",
    "    driver.execute_script(\"window.scrollTo(0, 0);\")\n",
    "    driver.execute_script(\"window.history.go(-1)\")\n",
    "    \n",
    "    # Random delay before processing the next element\n",
    "    time.sleep(random.uniform(2, 4))  # Random delay to mimic human-like behavior\n",
    "    \n",
    "    combined_data = {**info, **answers}\n",
    "    # Add the extracted data to the list\n",
    "    data.append(combined_data)\n",
    "    \n",
    "    # Increment the counter\n",
    "    counter += 1\n",
    "    \n",
    "    # Check if the desired number of records is reached\n",
    "    if counter == 49:\n",
    "        break\n",
    "\n",
    "# Close the WebDriver\n",
    "driver.quit()\n",
    "\n",
    "# Create a DataFrame from the extracted data\n",
    "df = pd.DataFrame(data)\n",
    "print(df)\n"
   ]
  },
  {
   "cell_type": "code",
   "execution_count": 8,
   "id": "00720b2a",
   "metadata": {},
   "outputs": [],
   "source": [
    "df.to_csv('output.csv', encoding='utf-8-sig', index=False)\n"
   ]
  },
  {
   "cell_type": "code",
   "execution_count": 9,
   "id": "58caedda",
   "metadata": {},
   "outputs": [],
   "source": [
    "df = pd.read_csv('output.csv', encoding='utf-8')\n"
   ]
  },
  {
   "cell_type": "code",
   "execution_count": 21,
   "id": "13c379c7",
   "metadata": {},
   "outputs": [],
   "source": [
    "driver.quit()"
   ]
  },
  {
   "cell_type": "code",
   "execution_count": null,
   "id": "dc35735b",
   "metadata": {},
   "outputs": [],
   "source": []
  }
 ],
 "metadata": {
  "kernelspec": {
   "display_name": "Python 3 (ipykernel)",
   "language": "python",
   "name": "python3"
  },
  "language_info": {
   "codemirror_mode": {
    "name": "ipython",
    "version": 3
   },
   "file_extension": ".py",
   "mimetype": "text/x-python",
   "name": "python",
   "nbconvert_exporter": "python",
   "pygments_lexer": "ipython3",
   "version": "3.9.13"
  }
 },
 "nbformat": 4,
 "nbformat_minor": 5
}
